{
  "cells": [
    {
      "cell_type": "code",
      "execution_count": null,
      "metadata": {
        "collapsed": false
      },
      "outputs": [],
      "source": [
        "%matplotlib inline"
      ]
    },
    {
      "cell_type": "markdown",
      "metadata": {},
      "source": [
        "\n# Colour Points\n\n\nAdd colour scatter to show an extra dimension.\n\nIf we have a secondary parameter that might not be best displayed\nas a posterior surface and would be useful to instead give\ncontext to other surfaces, we can select that point to give a\ncolour mapped scatter plot.\n\nWe can *also* display this as a posterior surface by setting\n`plot_colour_params=True`, if we wanted.\n\n"
      ]
    },
    {
      "cell_type": "code",
      "execution_count": null,
      "metadata": {
        "collapsed": false
      },
      "outputs": [],
      "source": [
        "import numpy as np\nfrom numpy.random import normal, multivariate_normal\nfrom chainconsumer import ChainConsumer\n\nnp.random.seed(1)\ncov = normal(size=(3, 3))\ndata = multivariate_normal(normal(size=3), np.dot(cov, cov.T), size=100000)\n\nc = ChainConsumer().add_chain(data, parameters=[\"$x$\", \"$y$\", \"$z$\"])\nc.configure(color_params=\"$z$\")\nfig = c.plotter.plot(figsize=1.0)\n\nfig.set_size_inches(4.5 + fig.get_size_inches())  # Resize fig for doco. You don't need this."
      ]
    },
    {
      "cell_type": "markdown",
      "metadata": {},
      "source": [
        "You can also plot the weights or posterior if they are specified. Showing weights here.\n\n"
      ]
    },
    {
      "cell_type": "code",
      "execution_count": null,
      "metadata": {
        "collapsed": false
      },
      "outputs": [],
      "source": [
        "weights = 1 / (1 + data[:, 0]**2 + data[:, 1]**2)\nc = ChainConsumer().add_chain(data[:, :2], parameters=[\"$x$\", \"$y$\"], weights=weights)\nc.configure(color_params=\"weights\")\nfig = c.plotter.plot(figsize=3.0)\n\nfig.set_size_inches(4.5 + fig.get_size_inches())  # Resize fig for doco. You don't need this."
      ]
    },
    {
      "cell_type": "markdown",
      "metadata": {},
      "source": [
        "And showing the posterior color parameter here\n\n"
      ]
    },
    {
      "cell_type": "code",
      "execution_count": null,
      "metadata": {
        "collapsed": false
      },
      "outputs": [],
      "source": [
        "weights = 1 / (1 + data[:, 0]**2 + data[:, 1]**2)\nposterior = np.log(weights)\nc = ChainConsumer().add_chain(data[:, :2], parameters=[\"$x$\", \"$y$\"], weights=weights, posterior=posterior)\nc.configure(color_params=\"posterior\")\nfig = c.plotter.plot(figsize=3.0)\n\nfig.set_size_inches(4.5 + fig.get_size_inches())  # Resize fig for doco. You don't need this."
      ]
    }
  ],
  "metadata": {
    "kernelspec": {
      "display_name": "Python 3",
      "language": "python",
      "name": "python3"
    },
    "language_info": {
      "codemirror_mode": {
        "name": "ipython",
        "version": 3
      },
      "file_extension": ".py",
      "mimetype": "text/x-python",
      "name": "python",
      "nbconvert_exporter": "python",
      "pygments_lexer": "ipython3",
      "version": "3.6.4"
    }
  },
  "nbformat": 4,
  "nbformat_minor": 0
}