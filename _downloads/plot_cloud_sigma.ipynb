{
  "cells": [
    {
      "cell_type": "code",
      "execution_count": null,
      "metadata": {
        "collapsed": false
      },
      "outputs": [],
      "source": [
        "%matplotlib inline"
      ]
    },
    {
      "cell_type": "markdown",
      "metadata": {},
      "source": [
        "\n# Cloud and Sigma Levels\n\n\nChoose custom sigma levels and display point cloud.\n\nIn this example we display more sigma levels, turn on the point cloud, and\ndisable the parameter summaries on the top of the marginalised distributions.\n\nNote that because of the very highly correlated distribution we have, it is\nuseful to increase the number of bins the plots are generated with, to capture the\nthinness of the correlation.\n\n"
      ]
    },
    {
      "cell_type": "code",
      "execution_count": null,
      "metadata": {
        "collapsed": false
      },
      "outputs": [],
      "source": [
        "import numpy as np\nfrom numpy.random import normal, multivariate_normal\nfrom chainconsumer import ChainConsumer\n\nnp.random.seed(1)\ncov = normal(size=(3, 3))\ndata = multivariate_normal(normal(size=3), np.dot(cov, cov.T), size=100000)\n\nc = ChainConsumer().add_chain(data, parameters=[\"$x$\", \"$y$\", \"$z$\"])\nc.configure(summary=False, bins=1.4, cloud=True, sigmas=np.linspace(0, 2, 10))\nfig = c.plotter.plot()\n\nfig.set_size_inches(4.5 + fig.get_size_inches())  # Resize fig for doco. You don't need this."
      ]
    }
  ],
  "metadata": {
    "kernelspec": {
      "display_name": "Python 3",
      "language": "python",
      "name": "python3"
    },
    "language_info": {
      "codemirror_mode": {
        "name": "ipython",
        "version": 3
      },
      "file_extension": ".py",
      "mimetype": "text/x-python",
      "name": "python",
      "nbconvert_exporter": "python",
      "pygments_lexer": "ipython3",
      "version": "3.6.4"
    }
  },
  "nbformat": 4,
  "nbformat_minor": 0
}