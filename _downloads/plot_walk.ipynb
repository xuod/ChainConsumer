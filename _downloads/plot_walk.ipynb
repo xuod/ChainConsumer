{
  "cells": [
    {
      "cell_type": "code",
      "execution_count": null,
      "metadata": {
        "collapsed": false
      },
      "outputs": [],
      "source": [
        "%matplotlib inline"
      ]
    },
    {
      "cell_type": "markdown",
      "metadata": {},
      "source": [
        "\n# Plot Walks\n\n\nYou can also plot the walks that your chains have undertaken.\n\nThis is a very helpful plot to create when determining if your chains have\nconverged and mixed. Below is an example walk from a Metropolis-Hastings run,\nwhere we have set the optional parameters for the weights and posteriors,\ngiving the top two subplots.\n\n.. figure::     ../../examples/resources/exampleWalk.png\n    :align:     center\n\n\n"
      ]
    },
    {
      "cell_type": "markdown",
      "metadata": {},
      "source": [
        "To generate your own walk, with a 100 point smoothed walk overplotting,\nyou can use the following code:\n\n"
      ]
    },
    {
      "cell_type": "code",
      "execution_count": null,
      "metadata": {
        "collapsed": false
      },
      "outputs": [],
      "source": [
        "import numpy as np\nfrom chainconsumer import ChainConsumer\n\nnp.random.seed(0)\ndata1 = np.random.randn(100000, 2)\ndata2 = np.random.randn(100000, 2) - 2\ndata1[:, 1] += 1\n\nc = ChainConsumer()\nc.add_chain(data1, parameters=[\"$x$\", \"$y$\"])\nc.add_chain(data2, parameters=[\"$x$\", \"$z$\"])\nfig = c.plotter.plot_walks(truth={\"$x$\": -1, \"$y$\": 1, \"$z$\": -2}, convolve=100)\n\nfig.set_size_inches(4.5 + fig.get_size_inches())  # Resize fig for doco. You don't need this."
      ]
    }
  ],
  "metadata": {
    "kernelspec": {
      "display_name": "Python 3",
      "language": "python",
      "name": "python3"
    },
    "language_info": {
      "codemirror_mode": {
        "name": "ipython",
        "version": 3
      },
      "file_extension": ".py",
      "mimetype": "text/x-python",
      "name": "python",
      "nbconvert_exporter": "python",
      "pygments_lexer": "ipython3",
      "version": "3.6.4"
    }
  },
  "nbformat": 4,
  "nbformat_minor": 0
}