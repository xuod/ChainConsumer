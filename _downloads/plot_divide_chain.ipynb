{
  "cells": [
    {
      "cell_type": "code",
      "execution_count": null,
      "metadata": {
        "collapsed": false
      },
      "outputs": [],
      "source": [
        "%matplotlib inline"
      ]
    },
    {
      "cell_type": "markdown",
      "metadata": {},
      "source": [
        "\n# Dividing a chain\n\n\nChainConsumer can split one chain into many!\n\nIf you use a sampling algorithm with multiple walkers (which\nis fairly common), it can be useful to plot each walker as a separate chain\nso that you can verify that your walkers have all converged to the same place.\n\nYou can use the `plot_walks` method for this, or the convergence diagnostics,\nbut the more options the better!\n\nIn the below example, I assume the generated data was created using ten walkers.\nI introduce some fake shift in the data to badly emulate walker drift.\n\n\n"
      ]
    },
    {
      "cell_type": "code",
      "execution_count": null,
      "metadata": {
        "collapsed": false
      },
      "outputs": [],
      "source": [
        "import numpy as np\nfrom numpy.random import multivariate_normal\nfrom chainconsumer import ChainConsumer\n\n\nnp.random.seed(0)\ndata = multivariate_normal([0.0, 4.0], [[1.0, 0.7], [0.7, 1.5]], size=1000000)\ndata[:, 0] += np.linspace(0, 1, data.shape[0])\n\nc = ChainConsumer().add_chain(data, parameters=[\"$x$\", \"$y$\"], walkers=5)\nc2 = c.divide_chain()\nfig = c2.plotter.plot()\n\nfig.set_size_inches(4.5 + fig.get_size_inches())  # Resize fig for doco. You don't need this."
      ]
    }
  ],
  "metadata": {
    "kernelspec": {
      "display_name": "Python 3",
      "language": "python",
      "name": "python3"
    },
    "language_info": {
      "codemirror_mode": {
        "name": "ipython",
        "version": 3
      },
      "file_extension": ".py",
      "mimetype": "text/x-python",
      "name": "python",
      "nbconvert_exporter": "python",
      "pygments_lexer": "ipython3",
      "version": "3.6.4"
    }
  },
  "nbformat": 4,
  "nbformat_minor": 0
}