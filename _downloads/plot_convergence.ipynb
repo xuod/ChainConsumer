{
  "cells": [
    {
      "cell_type": "code",
      "execution_count": null,
      "metadata": {
        "collapsed": false
      },
      "outputs": [],
      "source": [
        "%matplotlib inline"
      ]
    },
    {
      "cell_type": "markdown",
      "metadata": {},
      "source": [
        "\n# Convergence Diagnostics\n\n\nHow to use the built in convergence diagnostic tests!\n\n\n"
      ]
    },
    {
      "cell_type": "markdown",
      "metadata": {},
      "source": [
        "Here we create some good and bad data, and then run convergence tests on it!\n\n"
      ]
    },
    {
      "cell_type": "code",
      "execution_count": null,
      "metadata": {
        "collapsed": false
      },
      "outputs": [],
      "source": [
        "import numpy as np\nfrom numpy.random import normal\nfrom chainconsumer import ChainConsumer\n\nnp.random.seed(0)\n# Here we have some nice data, and then some bad data,\n# where the last part of the chain has walked off, and the first part\n# of the chain isn't agreeing with anything else!\ndata_good = normal(size=100000)\ndata_bad = data_good.copy()\ndata_bad += np.linspace(-0.5, 0.5, 100000)\ndata_bad[98000:] += 2\n\n# Lets load it into ChainConsumer, and pretend 10 walks went into making the chain\nc = ChainConsumer()\nc.add_chain(data_good, walkers=10, name=\"good\")\nc.add_chain(data_bad, walkers=10, name=\"bad\")\n\n# Now, lets check our convergence using the Gelman-Rubin statistic\ngelman_rubin_converged = c.diagnostic.gelman_rubin()\n# And also using the Geweke metric\ngeweke_converged = c.diagnostic.geweke()\n\n# Lets just output the results too\nprint(gelman_rubin_converged, geweke_converged)"
      ]
    },
    {
      "cell_type": "markdown",
      "metadata": {},
      "source": [
        "We can see that both the Gelman-Rubin and Geweke statistics failed.\nNote that by not specifying a chain when calling the diagnostics,\nthey are invoked on *all* chains. For example, to invoke the statistic\non only the second chain we can pass in either the chain index, or the chain\nname:\n\n"
      ]
    },
    {
      "cell_type": "code",
      "execution_count": null,
      "metadata": {
        "collapsed": false
      },
      "outputs": [],
      "source": [
        "print(c.diagnostic.geweke(chain=\"bad\"))"
      ]
    },
    {
      "cell_type": "markdown",
      "metadata": {},
      "source": [
        "Finally, note that the statistics are set to fail easily. For example,\nif you have 10 chains and run `diagnostic_gelman_rubin` with the defaults,\nyou will get false if *any* parameter of *any* chain has not converged.\nThe printed output will let you know which chains and parameters are\nculpable.\n\n"
      ]
    }
  ],
  "metadata": {
    "kernelspec": {
      "display_name": "Python 3",
      "language": "python",
      "name": "python3"
    },
    "language_info": {
      "codemirror_mode": {
        "name": "ipython",
        "version": 3
      },
      "file_extension": ".py",
      "mimetype": "text/x-python",
      "name": "python",
      "nbconvert_exporter": "python",
      "pygments_lexer": "ipython3",
      "version": "3.6.4"
    }
  },
  "nbformat": 4,
  "nbformat_minor": 0
}