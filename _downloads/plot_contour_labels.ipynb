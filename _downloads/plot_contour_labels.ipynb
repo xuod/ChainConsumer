{
  "cells": [
    {
      "cell_type": "code",
      "execution_count": null,
      "metadata": {
        "collapsed": false
      },
      "outputs": [],
      "source": [
        "%matplotlib inline"
      ]
    },
    {
      "cell_type": "markdown",
      "metadata": {},
      "source": [
        "\n# Contour Labels\n\n\nPlot contours using labels.\n\nYou can set the contour_labels to display confidence levels, as shown below.\n\n\n"
      ]
    },
    {
      "cell_type": "code",
      "execution_count": null,
      "metadata": {
        "collapsed": false
      },
      "outputs": [],
      "source": [
        "from numpy.random import multivariate_normal\nfrom chainconsumer import ChainConsumer\n\n\ndata = multivariate_normal([0, 0], [[1, 0.5], [0.5, 1.0]], size=1000000)\n\n\nc = ChainConsumer().add_chain(data).configure(contour_labels=\"confidence\")\nfig = c.plotter.plot()\nfig.set_size_inches(4.5 + fig.get_size_inches())  # Resize fig for doco. You don't need this."
      ]
    },
    {
      "cell_type": "markdown",
      "metadata": {},
      "source": [
        "Or you can plot in terms of sigma. Note that most people prefer stating\nthe confidence levels, because of the ambiguity over sigma levels introduced\nby the `sigma2d` keyword.\n\n"
      ]
    },
    {
      "cell_type": "code",
      "execution_count": null,
      "metadata": {
        "collapsed": false
      },
      "outputs": [],
      "source": [
        "c = ChainConsumer().add_chain(data).configure(contour_labels=\"sigma\")\nfig = c.plotter.plot()\nfig.set_size_inches(4.5 + fig.get_size_inches())  # Resize fig for doco. You don't need this."
      ]
    }
  ],
  "metadata": {
    "kernelspec": {
      "display_name": "Python 3",
      "language": "python",
      "name": "python3"
    },
    "language_info": {
      "codemirror_mode": {
        "name": "ipython",
        "version": 3
      },
      "file_extension": ".py",
      "mimetype": "text/x-python",
      "name": "python",
      "nbconvert_exporter": "python",
      "pygments_lexer": "ipython3",
      "version": "3.6.4"
    }
  },
  "nbformat": 4,
  "nbformat_minor": 0
}