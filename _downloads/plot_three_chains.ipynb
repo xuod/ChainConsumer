{
  "cells": [
    {
      "cell_type": "code",
      "execution_count": null,
      "metadata": {
        "collapsed": false
      },
      "outputs": [],
      "source": [
        "%matplotlib inline"
      ]
    },
    {
      "cell_type": "markdown",
      "metadata": {},
      "source": [
        "\n# Three Chains\n\n\nPlot three chains together. Name the chains to get a legend.\n\n\n\n"
      ]
    },
    {
      "cell_type": "code",
      "execution_count": null,
      "metadata": {
        "collapsed": false
      },
      "outputs": [],
      "source": [
        "import numpy as np\nfrom numpy.random import normal, random, multivariate_normal\nfrom chainconsumer import ChainConsumer\n\n\nif __name__ == \"__main__\":\n    np.random.seed(0)\n    cov = random(size=(3, 3)) + np.identity(3)\n    data = multivariate_normal(normal(size=3), np.dot(cov, cov.T), size=100000)\n    cov = random(size=(3, 3)) + np.identity(3)\n    data2 = multivariate_normal(normal(size=3), np.dot(cov, cov.T), size=100000)\n    cov = random(size=(3, 3)) + np.identity(3)\n    data3 = multivariate_normal(normal(size=3), np.dot(cov, cov.T), size=100000)\n\n    # If the parameters are the same between chains, you can just pass it the\n    # first time, and they will become the default parameters.\n    fig = ChainConsumer()\\\n        .add_chain(data, parameters=[\"$x$\", \"$y$\", r\"$\\epsilon$\"], name=\"Test chain\")\\\n        .add_chain(data2, name=\"Chain2\")\\\n        .add_chain(data3, name=\"Chain3\") \\\n        .plotter.plot()\n\n    fig.set_size_inches(4.5 + fig.get_size_inches())  # Resize fig for doco. You don't need this."
      ]
    }
  ],
  "metadata": {
    "kernelspec": {
      "display_name": "Python 3",
      "language": "python",
      "name": "python3"
    },
    "language_info": {
      "codemirror_mode": {
        "name": "ipython",
        "version": 3
      },
      "file_extension": ".py",
      "mimetype": "text/x-python",
      "name": "python",
      "nbconvert_exporter": "python",
      "pygments_lexer": "ipython3",
      "version": "3.6.4"
    }
  },
  "nbformat": 4,
  "nbformat_minor": 0
}