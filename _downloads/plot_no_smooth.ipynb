{
  "cells": [
    {
      "cell_type": "code",
      "execution_count": null,
      "metadata": {
        "collapsed": false
      },
      "outputs": [],
      "source": [
        "%matplotlib inline"
      ]
    },
    {
      "cell_type": "markdown",
      "metadata": {},
      "source": [
        "\n# No Smoothing\n\n\nWe can turn off the default gaussian filter on marginalised distributions.\n\nThis can be done by setting ``smooth`` to either ``0``, ``None`` or ``False``.\nNote that the parameter summaries also have smoothing turned off, and\nthus summaries may change.\n\nFun colour change! And thicker lines!\n\n\n"
      ]
    },
    {
      "cell_type": "code",
      "execution_count": null,
      "metadata": {
        "collapsed": false
      },
      "outputs": [],
      "source": [
        "import numpy as np\nfrom chainconsumer import ChainConsumer\n\ndata = np.random.multivariate_normal([0.0, 4.0], [[1.0, 0.7], [0.7, 1.5]], size=100000)\n\nc = ChainConsumer()\nc.add_chain(data, parameters=[\"$x_1$\", \"$x_2$\"])\nc.configure(smooth=0, linewidths=2, colors=\"#673AB7\")\nfig = c.plotter.plot(figsize=\"column\", truth=[0.0, 4.0])\n\n# If we wanted to save to file, we would instead have written\n# fig = c.plotter.plot(filename=\"location\", figsize=\"column\", truth=[0.0, 4.0])\n\n# If we wanted to display the plot interactively...\n# fig = c.plotter.plot(display=True, figsize=\"column\", truth=[0.0, 4.0])\n\nfig.set_size_inches(4.5 + fig.get_size_inches())  # Resize fig for doco. You don't need this."
      ]
    }
  ],
  "metadata": {
    "kernelspec": {
      "display_name": "Python 3",
      "language": "python",
      "name": "python3"
    },
    "language_info": {
      "codemirror_mode": {
        "name": "ipython",
        "version": 3
      },
      "file_extension": ".py",
      "mimetype": "text/x-python",
      "name": "python",
      "nbconvert_exporter": "python",
      "pygments_lexer": "ipython3",
      "version": "3.6.4"
    }
  },
  "nbformat": 4,
  "nbformat_minor": 0
}