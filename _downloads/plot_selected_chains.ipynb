{
  "cells": [
    {
      "cell_type": "code",
      "execution_count": null,
      "metadata": {
        "collapsed": false
      },
      "outputs": [],
      "source": [
        "%matplotlib inline"
      ]
    },
    {
      "cell_type": "markdown",
      "metadata": {},
      "source": [
        "\n# Excluding Chains\n\n\nYou don't have to plot everything at once!\n\n\nFor the main plotting methods you can specify which chains you want to plot. You can\ndo this using either the chain index or using the chain names. Like so:\n\n\n"
      ]
    },
    {
      "cell_type": "code",
      "execution_count": null,
      "metadata": {
        "collapsed": false
      },
      "outputs": [],
      "source": [
        "import numpy as np\nfrom numpy.random import multivariate_normal\nfrom chainconsumer import ChainConsumer\n\nnp.random.seed(0)\ndata1 = multivariate_normal([0, 0], [[1, 0], [0, 1]], size=1000000)\ndata2 = multivariate_normal([2, 0], [[1, 0], [0, 1]], size=1000000)\ndata3 = multivariate_normal([4, 0], [[1, 0], [0, 1]], size=1000000)\n\nc = ChainConsumer()\nc.add_chain(data1, parameters=[\"$x$\", \"$y$\"], name=\"Chain A\")\nc.add_chain(data2, name=\"Chain B\")\nc.add_chain(data3, name=\"Chain C\")\nfig = c.plotter.plot(chains=[\"Chain A\", \"Chain C\"])\n\nfig.set_size_inches(2.5 + fig.get_size_inches())  # Resize fig for doco. You don't need this."
      ]
    }
  ],
  "metadata": {
    "kernelspec": {
      "display_name": "Python 3",
      "language": "python",
      "name": "python3"
    },
    "language_info": {
      "codemirror_mode": {
        "name": "ipython",
        "version": 3
      },
      "file_extension": ".py",
      "mimetype": "text/x-python",
      "name": "python",
      "nbconvert_exporter": "python",
      "pygments_lexer": "ipython3",
      "version": "3.6.4"
    }
  },
  "nbformat": 4,
  "nbformat_minor": 0
}