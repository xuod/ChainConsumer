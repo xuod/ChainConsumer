{
  "cells": [
    {
      "cell_type": "code",
      "execution_count": null,
      "metadata": {
        "collapsed": false
      },
      "outputs": [],
      "source": [
        "%matplotlib inline"
      ]
    },
    {
      "cell_type": "markdown",
      "metadata": {},
      "source": [
        "\n# Truncated Parameters\n\n\nIf you have a large model, you don't need to plot all parameters at once.\n\nHere we only plot the first four parameters. You could also simply pass the number four,\nwhich means the *first* four parameters.\n\nFor fun, we also plot everything in green. Note you don't need to give multiple colours,\nthe shading is all computed from the colour hex code.\n\n"
      ]
    },
    {
      "cell_type": "code",
      "execution_count": null,
      "metadata": {
        "collapsed": false
      },
      "outputs": [],
      "source": [
        "import numpy as np\nfrom numpy.random import normal, random, multivariate_normal\nfrom chainconsumer import ChainConsumer\n\n\nnp.random.seed(0)\ncov = random(size=(6, 6))\ndata = multivariate_normal(normal(size=6), np.dot(cov, cov.T), size=200000)\nparameters = [\"$x$\", \"$y$\", \"$z$\", \"$a$\", \"$b$\", \"$c$\"]\nc = ChainConsumer().add_chain(data, parameters=parameters).configure(colors=\"#388E3C\")\nfig = c.plotter.plot(parameters=parameters[:4], figsize=\"page\")\n\nfig.set_size_inches(4.5 + fig.get_size_inches())  # Resize fig for doco. You don't need this."
      ]
    }
  ],
  "metadata": {
    "kernelspec": {
      "display_name": "Python 3",
      "language": "python",
      "name": "python3"
    },
    "language_info": {
      "codemirror_mode": {
        "name": "ipython",
        "version": 3
      },
      "file_extension": ".py",
      "mimetype": "text/x-python",
      "name": "python",
      "nbconvert_exporter": "python",
      "pygments_lexer": "ipython3",
      "version": "3.6.4"
    }
  },
  "nbformat": 4,
  "nbformat_minor": 0
}