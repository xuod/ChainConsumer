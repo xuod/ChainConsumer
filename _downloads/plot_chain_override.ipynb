{
  "cells": [
    {
      "cell_type": "code",
      "execution_count": null,
      "metadata": {
        "collapsed": false
      },
      "outputs": [],
      "source": [
        "%matplotlib inline"
      ]
    },
    {
      "cell_type": "markdown",
      "metadata": {},
      "source": [
        "\n# Overriding Configure\n\n\nYou can specify some display options when adding chains.\n\nThis is useful for when you are playing around with code, adding and removing chains\nas you tweak the plot. Normally, this would involve modifying the lists passed into `configure`\nif you wanted to keep a specific chain with a specific style. To make it easier, \n`color`, `linewidth`, `linestyle`, `kde` and `shade_alpha` have been added as optional\nparameters to `add_chain`. If set, these values override anything specified in configure (and\nthus override the default configure behaviour). \n\n\n"
      ]
    },
    {
      "cell_type": "code",
      "execution_count": null,
      "metadata": {
        "collapsed": false
      },
      "outputs": [],
      "source": [
        "import numpy as np\nfrom numpy.random import multivariate_normal\nfrom chainconsumer import ChainConsumer\n\nnp.random.seed(0)\ndata1 = multivariate_normal([-2, 0], [[1, 0], [0, 1]], size=100000)\ndata2 = multivariate_normal([4, -4], [[1, 0], [0, 1]], size=100000)\ndata3 = multivariate_normal([-2, -4], [[1, 0.7], [0.7, 1]], size=100000)\n\nc = ChainConsumer()\nc.add_chain(data1, parameters=[\"x\", \"y\"], color=\"red\", linestyle=\":\", name=\"Red dots\")\nc.add_chain(data2, parameters=[\"x\", \"y\"], color=\"#4286f4\", shade_alpha=1.0, name=\"Blue solid\")\nc.add_chain(data3, parameters=[\"x\", \"y\"], color=\"lg\", kde=1.5, linewidth=2.0, name=\"Green smoothed\")\n\nfig = c.plotter.plot()\nfig.set_size_inches(4.5 + fig.get_size_inches())  # Resize fig for doco. You don't need this."
      ]
    }
  ],
  "metadata": {
    "kernelspec": {
      "display_name": "Python 3",
      "language": "python",
      "name": "python3"
    },
    "language_info": {
      "codemirror_mode": {
        "name": "ipython",
        "version": 3
      },
      "file_extension": ".py",
      "mimetype": "text/x-python",
      "name": "python",
      "nbconvert_exporter": "python",
      "pygments_lexer": "ipython3",
      "version": "3.6.4"
    }
  },
  "nbformat": 4,
  "nbformat_minor": 0
}