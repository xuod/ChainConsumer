{
  "cells": [
    {
      "cell_type": "code",
      "execution_count": null,
      "metadata": {
        "collapsed": false
      },
      "outputs": [],
      "source": [
        "%matplotlib inline"
      ]
    },
    {
      "cell_type": "markdown",
      "metadata": {},
      "source": [
        "\n# Gaussian KDE and Extents\n\n\nSmooth marginalised distributions with a Gaussian KDE, and pick custom extents.\n\n\nNote that invoking the KDE on large data sets will significantly increase rendering time when\nyou have a large number of points. You can also pass a float to your KDE to modify the width\nof the bandpass by that factor!\n\nYou can see the increase in contour smoothness (without broadening) for when you have a\nlow number of samples in your chains!\n\n"
      ]
    },
    {
      "cell_type": "code",
      "execution_count": null,
      "metadata": {
        "collapsed": false
      },
      "outputs": [],
      "source": [
        "import numpy as np\nfrom chainconsumer import ChainConsumer\n\nnp.random.seed(0)\ndata = np.random.multivariate_normal([0.0, 4.0], [[1.0, -0.7], [-0.7, 1.5]], size=3000)\n\nc = ChainConsumer()\nc.add_chain(data, name=\"KDE on\")\nc.add_chain(data + 1, name=\"KDE off\")\nc.add_chain(data + 2, name=\"KDE x2!\")\nc.configure(kde=[True, False, 2.0], shade_alpha=0.1, flip=False)\nfig = c.plotter.plot(extents=[(-2, 4), (0, 9)])\n\nfig.set_size_inches(4.5 + fig.get_size_inches())  # Resize fig for doco. You don't need this."
      ]
    }
  ],
  "metadata": {
    "kernelspec": {
      "display_name": "Python 3",
      "language": "python",
      "name": "python3"
    },
    "language_info": {
      "codemirror_mode": {
        "name": "ipython",
        "version": 3
      },
      "file_extension": ".py",
      "mimetype": "text/x-python",
      "name": "python",
      "nbconvert_exporter": "python",
      "pygments_lexer": "ipython3",
      "version": "3.6.4"
    }
  },
  "nbformat": 4,
  "nbformat_minor": 0
}