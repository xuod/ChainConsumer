{
  "cells": [
    {
      "cell_type": "code",
      "execution_count": null,
      "metadata": {
        "collapsed": false
      },
      "outputs": [],
      "source": [
        "%matplotlib inline"
      ]
    },
    {
      "cell_type": "markdown",
      "metadata": {},
      "source": [
        "\n# Two Disjoint Chains\n\n\nYou can plot multiple chains. They can even have different parameters!\n\n\n\n"
      ]
    },
    {
      "cell_type": "code",
      "execution_count": null,
      "metadata": {
        "collapsed": false
      },
      "outputs": [],
      "source": [
        "import numpy as np\nfrom numpy.random import normal, multivariate_normal\nfrom chainconsumer import ChainConsumer\n\n\nnp.random.seed(0)\ncov = normal(size=(3, 3))\ncov2 = normal(size=(4, 4))\ndata = multivariate_normal(normal(size=3), np.dot(cov, cov.T), size=100000)\ndata2 = multivariate_normal(normal(size=4), np.dot(cov2, cov2.T), size=100000)\n\nc = ChainConsumer()\nc.add_chain(data, parameters=[\"$x$\", \"$y$\", r\"$\\alpha$\"])\nc.add_chain(data2, parameters=[\"$x$\", \"$y$\", r\"$\\alpha$\", r\"$\\gamma$\"])\nfig = c.plotter.plot()\n\nfig.set_size_inches(4.5 + fig.get_size_inches())  # Resize fig for doco. You don't need this."
      ]
    }
  ],
  "metadata": {
    "kernelspec": {
      "display_name": "Python 3",
      "language": "python",
      "name": "python3"
    },
    "language_info": {
      "codemirror_mode": {
        "name": "ipython",
        "version": 3
      },
      "file_extension": ".py",
      "mimetype": "text/x-python",
      "name": "python",
      "nbconvert_exporter": "python",
      "pygments_lexer": "ipython3",
      "version": "3.6.4"
    }
  },
  "nbformat": 4,
  "nbformat_minor": 0
}