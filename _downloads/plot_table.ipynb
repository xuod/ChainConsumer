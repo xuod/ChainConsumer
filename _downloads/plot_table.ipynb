{
  "cells": [
    {
      "cell_type": "code",
      "execution_count": null,
      "metadata": {
        "collapsed": false
      },
      "outputs": [],
      "source": [
        "%matplotlib inline"
      ]
    },
    {
      "cell_type": "markdown",
      "metadata": {},
      "source": [
        "\n# Plot Tables\n\n\nYou can also get LaTeX tables for parameter summaries.\n\nTurned into glorious LaTeX, we would get something like the following:\n\n.. figure::     ../../examples/resources/table.png\n    :align:     center\n\n\n"
      ]
    },
    {
      "cell_type": "markdown",
      "metadata": {},
      "source": [
        "The code to produce this, and the raw LaTeX, is given below:\n\n"
      ]
    },
    {
      "cell_type": "code",
      "execution_count": null,
      "metadata": {
        "collapsed": false
      },
      "outputs": [],
      "source": [
        "import numpy as np\nfrom chainconsumer import ChainConsumer\n\n\nndim, nsamples = 4, 200000\nnp.random.seed(0)\n\ndata = np.random.randn(nsamples, ndim)\ndata[:, 2] += data[:, 1] * data[:, 2]\ndata[:, 1] = data[:, 1] * 3 + 5\ndata[:, 3] /= (np.abs(data[:, 1]) + 1)\n\ndata2 = np.random.randn(nsamples, ndim)\ndata2[:, 0] -= 1\ndata2[:, 2] += data2[:, 1]**2\ndata2[:, 1] = data2[:, 1] * 2 - 5\ndata2[:, 3] = data2[:, 3] * 1.5 + 2\n\n# If you pass in parameter labels and only one chain, you can also get parameter bounds\nc = ChainConsumer()\nc.add_chain(data, parameters=[\"$x$\", \"$y$\", r\"$\\alpha$\", r\"$\\beta$\"], name=\"Model A\")\nc.add_chain(data2, parameters=[\"$x$\", \"$y$\", r\"$\\alpha$\", r\"$\\gamma$\"], name=\"Model B\")\ntable = c.analysis.get_latex_table(caption=\"Results for the tested models\", label=\"tab:example\")\nprint(table)"
      ]
    }
  ],
  "metadata": {
    "kernelspec": {
      "display_name": "Python 3",
      "language": "python",
      "name": "python3"
    },
    "language_info": {
      "codemirror_mode": {
        "name": "ipython",
        "version": 3
      },
      "file_extension": ".py",
      "mimetype": "text/x-python",
      "name": "python",
      "nbconvert_exporter": "python",
      "pygments_lexer": "ipython3",
      "version": "3.6.4"
    }
  },
  "nbformat": 4,
  "nbformat_minor": 0
}