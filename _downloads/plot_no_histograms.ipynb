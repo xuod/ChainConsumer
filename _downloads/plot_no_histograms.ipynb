{
  "cells": [
    {
      "cell_type": "code",
      "execution_count": null,
      "metadata": {
        "collapsed": false
      },
      "outputs": [],
      "source": [
        "%matplotlib inline"
      ]
    },
    {
      "cell_type": "markdown",
      "metadata": {},
      "source": [
        "\n# No Histograms\n\n\nSometimes marginalised histograms are not needed.\n\n\n"
      ]
    },
    {
      "cell_type": "code",
      "execution_count": null,
      "metadata": {
        "collapsed": false
      },
      "outputs": [],
      "source": [
        "from numpy.random import multivariate_normal, normal, seed\nimport numpy as np\nfrom chainconsumer import ChainConsumer\n\nseed(0)\ncov = normal(size=(3, 3))\ndata = multivariate_normal(normal(size=3), np.dot(cov, cov.T), size=100000)\n\nc = ChainConsumer().add_chain(data)\nc.configure(plot_hists=False)\nfig = c.plotter.plot()\n\nfig.set_size_inches(4.5 + fig.get_size_inches())  # Resize fig for doco. You don't need this."
      ]
    }
  ],
  "metadata": {
    "kernelspec": {
      "display_name": "Python 3",
      "language": "python",
      "name": "python3"
    },
    "language_info": {
      "codemirror_mode": {
        "name": "ipython",
        "version": 3
      },
      "file_extension": ".py",
      "mimetype": "text/x-python",
      "name": "python",
      "nbconvert_exporter": "python",
      "pygments_lexer": "ipython3",
      "version": "3.6.4"
    }
  },
  "nbformat": 4,
  "nbformat_minor": 0
}