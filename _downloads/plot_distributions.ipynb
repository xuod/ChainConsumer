{
  "cells": [
    {
      "cell_type": "code",
      "execution_count": null,
      "metadata": {
        "collapsed": false
      },
      "outputs": [],
      "source": [
        "%matplotlib inline"
      ]
    },
    {
      "cell_type": "markdown",
      "metadata": {},
      "source": [
        "\n# Plot Distributions\n\n\nIf you want a fast check of your distributions for high dimensional spaces (such\nthat you can only generate a surfaces for a subset of parameters), you can\nsimply plot all of the marginalised distributions using this method.\n\n\n\n"
      ]
    },
    {
      "cell_type": "code",
      "execution_count": null,
      "metadata": {
        "collapsed": false
      },
      "outputs": [],
      "source": [
        "import numpy as np\nfrom numpy.random import random, multivariate_normal\nfrom chainconsumer import ChainConsumer\n\nnp.random.seed(0)\nmeans, cov = np.arange(8), random(size=(8, 8))\ndata = multivariate_normal(means, np.dot(cov, cov.T), size=1000000)\n\nparams = [\"$x$\", \"$y$\", \"$z$\", \"a\", \"b\", \"c\", \"d\", \"e\"]\nc = ChainConsumer().add_chain(data, parameters=params)\n\nfig = c.plotter.plot_distributions(truth=means)\n\nfig.set_size_inches(4.5 + fig.get_size_inches())  # Resize fig for doco. You don't need this."
      ]
    }
  ],
  "metadata": {
    "kernelspec": {
      "display_name": "Python 3",
      "language": "python",
      "name": "python3"
    },
    "language_info": {
      "codemirror_mode": {
        "name": "ipython",
        "version": 3
      },
      "file_extension": ".py",
      "mimetype": "text/x-python",
      "name": "python",
      "nbconvert_exporter": "python",
      "pygments_lexer": "ipython3",
      "version": "3.6.4"
    }
  },
  "nbformat": 4,
  "nbformat_minor": 0
}