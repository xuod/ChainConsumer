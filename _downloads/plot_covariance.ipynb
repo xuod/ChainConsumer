{
  "cells": [
    {
      "cell_type": "code",
      "execution_count": null,
      "metadata": {
        "collapsed": false
      },
      "outputs": [],
      "source": [
        "%matplotlib inline"
      ]
    },
    {
      "cell_type": "markdown",
      "metadata": {},
      "source": [
        "\n# Plot Parameter Covariance\n\n\nYou can also get LaTeX tables for parameter covariance.\n\nTurned into glorious LaTeX, we would get something like the following:\n\n.. figure::     ../../examples/resources/covariance.png\n    :align:     center\n    :width:     60%\n\n\n"
      ]
    },
    {
      "cell_type": "markdown",
      "metadata": {},
      "source": [
        "The code to produce this, and the raw LaTeX, is given below:\n\n"
      ]
    },
    {
      "cell_type": "code",
      "execution_count": null,
      "metadata": {
        "collapsed": false
      },
      "outputs": [],
      "source": [
        "import numpy as np\nfrom chainconsumer import ChainConsumer\n\n\ncov = [[1.0, 0.5, 0.2], [0.5, 2.0, 0.3], [0.2, 0.3, 3.0]]\ndata = np.random.multivariate_normal([0, 0, 1], cov, size=1000000)\nparameters = [\"x\", \"y\", \"z\"]\nc = ChainConsumer()\nc.add_chain(data, parameters=parameters)\nlatex_table = c.analysis.get_covariance_table()\nprint(latex_table)"
      ]
    }
  ],
  "metadata": {
    "kernelspec": {
      "display_name": "Python 3",
      "language": "python",
      "name": "python3"
    },
    "language_info": {
      "codemirror_mode": {
        "name": "ipython",
        "version": 3
      },
      "file_extension": ".py",
      "mimetype": "text/x-python",
      "name": "python",
      "nbconvert_exporter": "python",
      "pygments_lexer": "ipython3",
      "version": "3.6.4"
    }
  },
  "nbformat": 4,
  "nbformat_minor": 0
}