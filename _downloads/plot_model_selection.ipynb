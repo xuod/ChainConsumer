{
  "cells": [
    {
      "cell_type": "code",
      "execution_count": null,
      "metadata": {
        "collapsed": false
      },
      "outputs": [],
      "source": [
        "%matplotlib inline"
      ]
    },
    {
      "cell_type": "markdown",
      "metadata": {},
      "source": [
        "\n# Plot Model Comparison\n\n\nYou can also get LaTeX tables for model comparison.\n\nTurned into glorious LaTeX, we would get something like the following:\n\n.. figure::     ../../examples/resources/table_comparison.png\n    :align:     center\n    :width:     60%\n\n\n"
      ]
    },
    {
      "cell_type": "markdown",
      "metadata": {},
      "source": [
        "The code to produce this, and the raw LaTeX, is given below:\n\n"
      ]
    },
    {
      "cell_type": "code",
      "execution_count": null,
      "metadata": {
        "collapsed": false
      },
      "outputs": [],
      "source": [
        "from scipy.stats import norm\nfrom chainconsumer import ChainConsumer\n\n\nn = 10000\nd1 = norm.rvs(size=n)\np1 = norm.logpdf(d1)\np2 = norm.logpdf(d1, scale=1.1)\n\nc = ChainConsumer()\nc.add_chain(d1, posterior=p1, name=\"Model A\", num_eff_data_points=n, num_free_params=4)\nc.add_chain(d1, posterior=p2, name=\"Model B\", num_eff_data_points=n, num_free_params=5)\nc.add_chain(d1, posterior=p2, name=\"Model C\", num_eff_data_points=n, num_free_params=4)\nc.add_chain(d1, posterior=p1, name=\"Model D\", num_eff_data_points=n, num_free_params=14)\ntable = c.comparison.comparison_table(caption=\"Model comparisons!\")\nprint(table)"
      ]
    }
  ],
  "metadata": {
    "kernelspec": {
      "display_name": "Python 3",
      "language": "python",
      "name": "python3"
    },
    "language_info": {
      "codemirror_mode": {
        "name": "ipython",
        "version": 3
      },
      "file_extension": ".py",
      "mimetype": "text/x-python",
      "name": "python",
      "nbconvert_exporter": "python",
      "pygments_lexer": "ipython3",
      "version": "3.6.4"
    }
  },
  "nbformat": 4,
  "nbformat_minor": 0
}