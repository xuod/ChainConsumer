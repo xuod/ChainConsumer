{
  "cells": [
    {
      "cell_type": "code",
      "execution_count": null,
      "metadata": {
        "collapsed": false
      },
      "outputs": [],
      "source": [
        "%matplotlib inline"
      ]
    },
    {
      "cell_type": "markdown",
      "metadata": {},
      "source": [
        "\n========================\nMultiple Colour Scatter!\n========================\n\nWhy show only one colour, when you can display more!\n\nIn the basic colour example, we showed one parameter being used\nto give colour information. However, you can pick a different colour, or no colour (`None`),\nfor each chain.\n\nYou can also pick the same parameter in multiple chains, and all the scatter points will be put\non the same colour scale. The underlying contours will still be distinguishable automatically\nby adding alternative linestyles, as shown below.\n\n"
      ]
    },
    {
      "cell_type": "code",
      "execution_count": null,
      "metadata": {
        "collapsed": false
      },
      "outputs": [],
      "source": [
        "import numpy as np\nfrom numpy.random import normal, multivariate_normal\nfrom chainconsumer import ChainConsumer\n\nnp.random.seed(1)\ncov = normal(size=(4, 4))\ndata = multivariate_normal(normal(size=4), np.dot(cov, cov.T), size=100000)\ncov = 1 + 0.5 * normal(size=(4, 4))\ndata2 = multivariate_normal(4+normal(size=4), np.dot(cov, cov.T), size=100000)\n\nc = ChainConsumer().add_chain(data, parameters=[\"$x$\", \"$y$\", \"$z$\", \"$g$\"], name=\"a\")\nc.add_chain(data2, parameters=[\"$x$\", \"$y$\", \"$z$\", \"$t$\"], name=\"b\")\nc.configure(color_params=[\"$g$\", \"$t$\"])\nfig = c.plotter.plot(figsize=1.75)\n\nfig.set_size_inches(4.5 + fig.get_size_inches())  # Resize fig for doco. You don't need this."
      ]
    }
  ],
  "metadata": {
    "kernelspec": {
      "display_name": "Python 3",
      "language": "python",
      "name": "python3"
    },
    "language_info": {
      "codemirror_mode": {
        "name": "ipython",
        "version": 3
      },
      "file_extension": ".py",
      "mimetype": "text/x-python",
      "name": "python",
      "nbconvert_exporter": "python",
      "pygments_lexer": "ipython3",
      "version": "3.6.4"
    }
  },
  "nbformat": 4,
  "nbformat_minor": 0
}