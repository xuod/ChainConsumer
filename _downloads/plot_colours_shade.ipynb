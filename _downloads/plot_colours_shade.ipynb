{
  "cells": [
    {
      "cell_type": "code",
      "execution_count": null,
      "metadata": {
        "collapsed": false
      },
      "outputs": [],
      "source": [
        "%matplotlib inline"
      ]
    },
    {
      "cell_type": "markdown",
      "metadata": {},
      "source": [
        "\n# Colours and Shading\n\n\nChoose custom colours and plot multiple chains with shading.\n\nNormally when plotting more than two chains, shading is removed so\nyou can clearly see the outlines. However, you can turn shading back\non and modify the shade opacity if you prefer colourful plots.\n\nNote that the contour shading and marginalised shading are separate\nand are configured independently.\n\nColours should be given as hex colours.\n\n"
      ]
    },
    {
      "cell_type": "code",
      "execution_count": null,
      "metadata": {
        "collapsed": false
      },
      "outputs": [],
      "source": [
        "import numpy as np\nfrom numpy.random import normal, multivariate_normal\nfrom chainconsumer import ChainConsumer\n\nnp.random.seed(2)\ncov = normal(size=(2, 2)) + np.identity(2)\nd1 = multivariate_normal(normal(size=2), np.dot(cov, cov.T), size=100000)\ncov = normal(size=(2, 2)) + np.identity(2)\nd2 = multivariate_normal(normal(size=2), np.dot(cov, cov.T), size=100000)\ncov = normal(size=(2, 2)) + np.identity(2)\nd3 = multivariate_normal(normal(size=2), np.dot(cov, cov.T), size=100000)\n\nc = ChainConsumer().add_chain(d1, parameters=[\"$x$\", \"$y$\"]).add_chain(d2).add_chain(d3)\nc.configure(colors=[\"#B32222\", \"#D1D10D\", \"#455A64\"], shade=True, shade_alpha=0.2, bar_shade=True)\nfig = c.plotter.plot()\n\nfig.set_size_inches(4.5 + fig.get_size_inches())  # Resize fig for doco. You don't need this."
      ]
    }
  ],
  "metadata": {
    "kernelspec": {
      "display_name": "Python 3",
      "language": "python",
      "name": "python3"
    },
    "language_info": {
      "codemirror_mode": {
        "name": "ipython",
        "version": 3
      },
      "file_extension": ".py",
      "mimetype": "text/x-python",
      "name": "python",
      "nbconvert_exporter": "python",
      "pygments_lexer": "ipython3",
      "version": "3.6.4"
    }
  },
  "nbformat": 4,
  "nbformat_minor": 0
}