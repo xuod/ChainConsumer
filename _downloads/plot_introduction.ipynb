{
  "cells": [
    {
      "cell_type": "code",
      "execution_count": null,
      "metadata": {
        "collapsed": false
      },
      "outputs": [],
      "source": [
        "%matplotlib inline"
      ]
    },
    {
      "cell_type": "markdown",
      "metadata": {},
      "source": [
        "\n# Plot Contours\n\n\nA trivial example using data from a multivariate normal.\n\nWe give truth values, parameter labels and set the figure size to\nfit one column of a two column document.\n\nIt is important to note that (in future examples) we always call the\nconfiguration methods *after* loading in all the data.\n\nNote that the parameter summaries are all calculated from the chosen bin size and take\ninto account if the data is being smoothed or not. It is thus important to consider\nwhether you want smoothing enabled or (depending on your surfaces) more or less\nbins than automatically estimated. See the extended customisation examples for\nmore information.\n\n\n"
      ]
    },
    {
      "cell_type": "code",
      "execution_count": null,
      "metadata": {
        "collapsed": false
      },
      "outputs": [],
      "source": [
        "import numpy as np\nfrom chainconsumer import ChainConsumer\n\nnp.random.seed(0)\ndata = np.random.multivariate_normal([0.0, 4.0], [[1.0, 0.7], [0.7, 1.5]], size=1000000)\n\nc = ChainConsumer()\nc.add_chain(data, parameters=[\"$x_1$\", \"$x_2$\"])\nfig = c.plotter.plot(figsize=\"column\", truth=[0.0, 4.0])\n\n# If we wanted to save to file, we would instead have written\n# fig = c.plotter.plot(filename=\"location\", figsize=\"column\", truth=[0.0, 4.0])\n\n# If we wanted to display the plot interactively...\n# fig = c.plotter.plot(display=True, figsize=\"column\", truth=[0.0, 4.0])\n\nfig.set_size_inches(4.5 + fig.get_size_inches())  # Resize fig for doco. You don't need this."
      ]
    }
  ],
  "metadata": {
    "kernelspec": {
      "display_name": "Python 3",
      "language": "python",
      "name": "python3"
    },
    "language_info": {
      "codemirror_mode": {
        "name": "ipython",
        "version": 3
      },
      "file_extension": ".py",
      "mimetype": "text/x-python",
      "name": "python",
      "nbconvert_exporter": "python",
      "pygments_lexer": "ipython3",
      "version": "3.6.4"
    }
  },
  "nbformat": 4,
  "nbformat_minor": 0
}