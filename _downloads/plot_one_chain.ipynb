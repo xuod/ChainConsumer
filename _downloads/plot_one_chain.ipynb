{
  "cells": [
    {
      "cell_type": "code",
      "execution_count": null,
      "metadata": {
        "collapsed": false
      },
      "outputs": [],
      "source": [
        "%matplotlib inline"
      ]
    },
    {
      "cell_type": "markdown",
      "metadata": {},
      "source": [
        "\n# One Chain\n\n\nPlot one chain with parameter names.\n\nBecause we are only plotting one chain, we will get\nparameter bounds on the marginalised surfaces by\ndefault.\n\n"
      ]
    },
    {
      "cell_type": "code",
      "execution_count": null,
      "metadata": {
        "collapsed": false
      },
      "outputs": [],
      "source": [
        "import numpy as np\nfrom numpy.random import normal, multivariate_normal\nfrom chainconsumer import ChainConsumer\n\n\nnp.random.seed(0)\ncov = 1e2 * normal(size=(3, 3))\ndata = multivariate_normal(1e3 * normal(size=3), np.dot(cov, cov.T), size=100000)\n\n# If you pass in parameter labels and only one chain, you can also get parameter bounds\nfig = ChainConsumer().add_chain(data, parameters=[\"$x$\", \"$y$\", r\"$\\epsilon$\"]).plotter.plot()\n\nfig.set_size_inches(4.5 + fig.get_size_inches())  # Resize fig for doco. You don't need this."
      ]
    }
  ],
  "metadata": {
    "kernelspec": {
      "display_name": "Python 3",
      "language": "python",
      "name": "python3"
    },
    "language_info": {
      "codemirror_mode": {
        "name": "ipython",
        "version": 3
      },
      "file_extension": ".py",
      "mimetype": "text/x-python",
      "name": "python",
      "nbconvert_exporter": "python",
      "pygments_lexer": "ipython3",
      "version": "3.6.4"
    }
  },
  "nbformat": 4,
  "nbformat_minor": 0
}