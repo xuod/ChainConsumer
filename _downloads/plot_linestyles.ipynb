{
  "cells": [
    {
      "cell_type": "code",
      "execution_count": null,
      "metadata": {
        "collapsed": false
      },
      "outputs": [],
      "source": [
        "%matplotlib inline"
      ]
    },
    {
      "cell_type": "markdown",
      "metadata": {},
      "source": [
        "\n# Changing Linestyles\n\n\nCustomise the plot line styles.\n\nIn this example we customise the line styles used, and make use of\nthe ability to pass lists of parameters to the configuration methods.\n\n\n"
      ]
    },
    {
      "cell_type": "code",
      "execution_count": null,
      "metadata": {
        "collapsed": false
      },
      "outputs": [],
      "source": [
        "import numpy as np\nfrom numpy.random import normal, multivariate_normal\nfrom chainconsumer import ChainConsumer\n\nnp.random.seed(1)\ncov = normal(size=(3, 3))\ndata = multivariate_normal(normal(size=3), np.dot(cov, cov.T), size=100000)\ndata2 = data * 1.1 + 0.5\n\nc = ChainConsumer().add_chain(data, parameters=[\"$x$\", \"$y$\", \"$z$\"]).add_chain(data2)\nc.configure(linestyles=[\"-\", \"--\"], linewidths=[1.0, 2.0],\n            shade=[True, False], shade_alpha=[0.2, 0.0])\nfig = c.plotter.plot()\n\nfig.set_size_inches(4.5 + fig.get_size_inches())  # Resize fig for doco. You don't need this."
      ]
    }
  ],
  "metadata": {
    "kernelspec": {
      "display_name": "Python 3",
      "language": "python",
      "name": "python3"
    },
    "language_info": {
      "codemirror_mode": {
        "name": "ipython",
        "version": 3
      },
      "file_extension": ".py",
      "mimetype": "text/x-python",
      "name": "python",
      "nbconvert_exporter": "python",
      "pygments_lexer": "ipython3",
      "version": "3.6.4"
    }
  },
  "nbformat": 4,
  "nbformat_minor": 0
}