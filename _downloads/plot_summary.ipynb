{
  "cells": [
    {
      "cell_type": "code",
      "execution_count": null,
      "metadata": {
        "collapsed": false
      },
      "outputs": [],
      "source": [
        "%matplotlib inline"
      ]
    },
    {
      "cell_type": "markdown",
      "metadata": {},
      "source": [
        "\n# Plot Summary\n\n\nHave a bunch of models and want to compare summaries, but in a plot instead of LaTeX? Can do!\n\n\n\n"
      ]
    },
    {
      "cell_type": "markdown",
      "metadata": {},
      "source": [
        "Lets add a bunch of chains represnting all these different models of ours.\n\n"
      ]
    },
    {
      "cell_type": "code",
      "execution_count": null,
      "metadata": {
        "collapsed": false
      },
      "outputs": [],
      "source": [
        "import numpy as np\nfrom chainconsumer import ChainConsumer\n\n\ndef get_instance():\n    np.random.seed(0)\n    c = ChainConsumer()\n    parameters = [\"$x$\", r\"$\\Omega_\\epsilon$\", \"$r^2(x_0)$\"]\n    for name in [\"Ref. model\", \"Test A\", \"Test B\", \"Test C\"]:\n        # Add some random data\n        mean = np.random.normal(loc=0, scale=3, size=3)\n        sigma = np.random.uniform(low=1, high=3, size=3)\n        data = np.random.multivariate_normal(mean=mean, cov=np.diag(sigma**2), size=100000)\n        c.add_chain(data, parameters=parameters, name=name)\n    return c"
      ]
    },
    {
      "cell_type": "markdown",
      "metadata": {},
      "source": [
        "If we want the full shape of the distributions, well, thats the default\nbehaviour!\n\n"
      ]
    },
    {
      "cell_type": "code",
      "execution_count": null,
      "metadata": {
        "collapsed": false
      },
      "outputs": [],
      "source": [
        "c = get_instance()\nc.configure(bar_shade=True)\nc.plotter.plot_summary()"
      ]
    },
    {
      "cell_type": "markdown",
      "metadata": {},
      "source": [
        "But lets make some changes. Say we don't like the colourful text. And we\nwant errorbars, not distributions. And some fun truth values.\n\n"
      ]
    },
    {
      "cell_type": "code",
      "execution_count": null,
      "metadata": {
        "collapsed": false
      },
      "outputs": [],
      "source": [
        "c = get_instance()\nc.configure(legend_color_text=False)\nc.configure_truth(ls=\":\", color=\"#FB8C00\")\nc.plotter.plot_summary(errorbar=True, truth=[[0], [-1, 1], [-2, 0, 2]])"
      ]
    },
    {
      "cell_type": "markdown",
      "metadata": {},
      "source": [
        "Even better, lets use our reference model as the truth value and not plot\nit with the others\n\n"
      ]
    },
    {
      "cell_type": "code",
      "execution_count": null,
      "metadata": {
        "collapsed": false
      },
      "outputs": [],
      "source": [
        "c = get_instance()\nc.configure(legend_color_text=False)\nc.configure_truth(ls=\"-\", color=\"#555555\")\nc.plotter.plot_summary(errorbar=True, truth=\"Ref. model\", include_truth_chain=False, extra_parameter_spacing=1.5)"
      ]
    }
  ],
  "metadata": {
    "kernelspec": {
      "display_name": "Python 3",
      "language": "python",
      "name": "python3"
    },
    "language_info": {
      "codemirror_mode": {
        "name": "ipython",
        "version": 3
      },
      "file_extension": ".py",
      "mimetype": "text/x-python",
      "name": "python",
      "nbconvert_exporter": "python",
      "pygments_lexer": "ipython3",
      "version": "3.6.4"
    }
  },
  "nbformat": 4,
  "nbformat_minor": 0
}