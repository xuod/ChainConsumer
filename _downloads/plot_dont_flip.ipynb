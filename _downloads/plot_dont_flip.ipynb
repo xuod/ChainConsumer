{
  "cells": [
    {
      "cell_type": "code",
      "execution_count": null,
      "metadata": {
        "collapsed": false
      },
      "outputs": [],
      "source": [
        "%matplotlib inline"
      ]
    },
    {
      "cell_type": "markdown",
      "metadata": {},
      "source": [
        "\n=====================\nFlips, Ticks and Size\n=====================\n\nYou can stop the second parameter rotating in the plot if you prefer squares!\n\nUnlike the Introduction example, which shows the rotated plots, this example shows them\nwithout the rotation.\n\nAlso, you can pass in a tuple for the figure size. We also demonstrate adding more\nticks to the axis in this example. Also, I change the colour to red, just for fun.\n\n"
      ]
    },
    {
      "cell_type": "code",
      "execution_count": null,
      "metadata": {
        "collapsed": false
      },
      "outputs": [],
      "source": [
        "import numpy as np\nfrom chainconsumer import ChainConsumer\n\nnp.random.seed(0)\ndata = np.random.multivariate_normal([1.5, 4.0], [[1.0, 0.7], [0.7, 1.5]], size=1000000)\ndata[:, 0] = np.abs(data[:, 0])\n\nc = ChainConsumer().add_chain(data, parameters=[\"$x_1$\", \"$x_2$\"])\nc.configure(flip=False, max_ticks=10, colors=\"#D32F2F\")\nfig = c.plotter.plot(figsize=(6, 6))\n\nfig.set_size_inches(4.5 + fig.get_size_inches())  # Resize fig for doco. You don't need this."
      ]
    }
  ],
  "metadata": {
    "kernelspec": {
      "display_name": "Python 3",
      "language": "python",
      "name": "python3"
    },
    "language_info": {
      "codemirror_mode": {
        "name": "ipython",
        "version": 3
      },
      "file_extension": ".py",
      "mimetype": "text/x-python",
      "name": "python",
      "nbconvert_exporter": "python",
      "pygments_lexer": "ipython3",
      "version": "3.6.4"
    }
  },
  "nbformat": 4,
  "nbformat_minor": 0
}