{
  "cells": [
    {
      "cell_type": "code",
      "execution_count": null,
      "metadata": {
        "collapsed": false
      },
      "outputs": [],
      "source": [
        "%matplotlib inline"
      ]
    },
    {
      "cell_type": "markdown",
      "metadata": {},
      "source": [
        "\n==========\nGrid Data!\n==========\n\nIf you don't have Monte Carlo chains, and have grid evaluations instead, that's fine too!\n\nJust flatten your grid, set the weights to the grid evaluation, and set the grid flag. Here is\na nice diamond that you get from modifying a simple multivariate normal distribution.\n\nNote that by default, grid data is not smoothed, though you can explicitly set the smooth\nparameter in ``configure_general`` if you do want smoothing.\n\nNote that you *cannot* use dictionary input with the grid method and not specify the full\nflattened array. This is because we cannot construct the meshgrid from a dictionary, as\nthe order of the parameters is not preserved in the dictionary.\n\n\n"
      ]
    },
    {
      "cell_type": "code",
      "execution_count": null,
      "metadata": {
        "collapsed": false
      },
      "outputs": [],
      "source": [
        "import numpy as np\nfrom chainconsumer import ChainConsumer\nfrom scipy.stats import multivariate_normal\n\n\nx, y = np.linspace(-3, 3, 50), np.linspace(-7, 7, 100)\nxx, yy = np.meshgrid(x, y, indexing='ij')\npdf = np.exp(-0.5 * (xx * xx + yy * yy / 4 + np.abs(xx * yy)))\n\nc = ChainConsumer()\nc.add_chain([x, y], parameters=[\"$x$\", \"$y$\"], weights=pdf, grid=True)\nfig = c.plotter.plot()\nfig.set_size_inches(4.5 + fig.get_size_inches())  # Resize fig for doco. You don't need this."
      ]
    },
    {
      "cell_type": "markdown",
      "metadata": {},
      "source": [
        "If you have the flattened array already, you can also pass this\n\n"
      ]
    },
    {
      "cell_type": "code",
      "execution_count": null,
      "metadata": {
        "collapsed": false
      },
      "outputs": [],
      "source": [
        "# Turning 2D data to flat data.\nxs, ys = xx.flatten(), yy.flatten()\ncoords = np.vstack((xs, ys)).T\npdf_flat = multivariate_normal.pdf(coords, mean=[0.0, 0.0], cov=[[1.0, 0.7], [0.7, 3.5]])\nc = ChainConsumer()\nc.add_chain([xs, ys], parameters=[\"$x$\", \"$y$\"], weights=pdf_flat, grid=True)\nc.configure(smooth=1)  # Notice how smoothing changes the results!\nfig = c.plotter.plot()\n\nfig.set_size_inches(4.5 + fig.get_size_inches())  # Resize fig for doco. You don't need this."
      ]
    }
  ],
  "metadata": {
    "kernelspec": {
      "display_name": "Python 3",
      "language": "python",
      "name": "python3"
    },
    "language_info": {
      "codemirror_mode": {
        "name": "ipython",
        "version": 3
      },
      "file_extension": ".py",
      "mimetype": "text/x-python",
      "name": "python",
      "nbconvert_exporter": "python",
      "pygments_lexer": "ipython3",
      "version": "3.6.4"
    }
  },
  "nbformat": 4,
  "nbformat_minor": 0
}