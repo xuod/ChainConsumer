{
  "cells": [
    {
      "cell_type": "code",
      "execution_count": null,
      "metadata": {
        "collapsed": false
      },
      "outputs": [],
      "source": [
        "%matplotlib inline"
      ]
    },
    {
      "cell_type": "markdown",
      "metadata": {},
      "source": [
        "\n# Change Font Options\n\n\nControl tick rotation and font sizes.\n\nHere the tick rotation has been turned off, ticks made smaller,\nmore ticks added, and label size increased!\n\n"
      ]
    },
    {
      "cell_type": "code",
      "execution_count": null,
      "metadata": {
        "collapsed": false
      },
      "outputs": [],
      "source": [
        "import numpy as np\nfrom numpy.random import multivariate_normal\nfrom chainconsumer import ChainConsumer\n\n\nnp.random.seed(0)\ndata = multivariate_normal([0, 1, 2], np.eye(3) + 0.2, size=100000)\n\n# If you pass in parameter labels and only one chain, you can also get parameter bounds\nc = ChainConsumer()\nc.add_chain(data, parameters=[\"$x$\", \"$y^2$\", r\"$\\Omega_\\beta$\"], name=\"Example\")\nc.configure(diagonal_tick_labels=False, tick_font_size=8, label_font_size=25, max_ticks=8)\nfig = c.plotter.plot(figsize=\"column\", legend=True)\n\nfig.set_size_inches(4.5 + fig.get_size_inches())  # Resize fig for doco. You don't need this."
      ]
    }
  ],
  "metadata": {
    "kernelspec": {
      "display_name": "Python 3",
      "language": "python",
      "name": "python3"
    },
    "language_info": {
      "codemirror_mode": {
        "name": "ipython",
        "version": 3
      },
      "file_extension": ".py",
      "mimetype": "text/x-python",
      "name": "python",
      "nbconvert_exporter": "python",
      "pygments_lexer": "ipython3",
      "version": "3.6.4"
    }
  },
  "nbformat": 4,
  "nbformat_minor": 0
}